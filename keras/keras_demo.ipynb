{
 "cells": [
  {
   "cell_type": "markdown",
   "metadata": {},
   "source": [
    "# Keras demo"
   ]
  },
  {
   "cell_type": "code",
   "execution_count": 1,
   "metadata": {},
   "outputs": [],
   "source": [
    "import numpy as np\n",
    "import cv2\n",
    "import sys\n",
    "import os\n",
    "import glob\n",
    "import pickle\n",
    "import time"
   ]
  },
  {
   "cell_type": "code",
   "execution_count": 2,
   "metadata": {},
   "outputs": [],
   "source": [
    "# Parameters\n",
    "gpu_enabled = False\n",
    "model_path = '../final_saved_models'"
   ]
  },
  {
   "cell_type": "code",
   "execution_count": 3,
   "metadata": {},
   "outputs": [],
   "source": [
    "# COCO Class names\n",
    "class_names = ['person', 'bicycle', 'car', 'motorcycle', 'airplane',\n",
    "               'bus', 'train', 'truck', 'boat', 'traffic light',\n",
    "               'fire hydrant', 'stop sign', 'parking meter', 'bench', 'bird',\n",
    "               'cat', 'dog', 'horse', 'sheep', 'cow', 'elephant', 'bear',\n",
    "               'zebra', 'giraffe', 'backpack', 'umbrella', 'handbag', 'tie',\n",
    "               'suitcase', 'frisbee', 'skis', 'snowboard', 'sports ball',\n",
    "               'kite', 'baseball bat', 'baseball glove', 'skateboard',\n",
    "               'surfboard', 'tennis racket', 'bottle', 'wine glass', 'cup',\n",
    "               'fork', 'knife', 'spoon', 'bowl', 'banana', 'apple',\n",
    "               'sandwich', 'orange', 'broccoli', 'carrot', 'hot dog', 'pizza',\n",
    "               'donut', 'cake', 'chair', 'couch', 'potted plant', 'bed',\n",
    "               'dining table', 'toilet', 'tv', 'laptop', 'mouse', 'remote',\n",
    "               'keyboard', 'cell phone', 'microwave', 'oven', 'toaster',\n",
    "               'sink', 'refrigerator', 'book', 'clock', 'vase', 'scissors',\n",
    "               'teddy bear', 'hair drier', 'toothbrush']"
   ]
  },
  {
   "cell_type": "code",
   "execution_count": 4,
   "metadata": {},
   "outputs": [],
   "source": [
    "def keras_model_test(model_type, model_path, image_num, gpu_enabled = False):\n",
    "\n",
    "\n",
    "    if not gpu_enabled:\n",
    "        os.environ['CUDA_VISIBLE_DEVICES'] = '-1'\n",
    "        platform = 'cpu'\n",
    "    else:\n",
    "        os.environ['CUDA_VISIBLE_DEVICES'] = '0'\n",
    "        platform = 'gpu'\n",
    "    \n",
    "    classes=len(class_names)    \n",
    "    \n",
    "    if model_type=='vgg16':\n",
    "        model_final = 'vgg16_coco_120.p'\n",
    "        from graphs import vgg_graph\n",
    "        model, base_size = vgg_graph(classes, architecture = \"vgg16\")\n",
    "    elif model_type=='resnet50':\n",
    "        model_final = 'resnet50_coco_120.p'   \n",
    "        from graphs import resnet_graph\n",
    "        model, base_size = resnet_graph(classes, architecture = \"resnet50\")\n",
    "            \n",
    "    model_path = os.path.join(model_path,model_final)\n",
    "    wlayer = pickle.load(open(model_path,\"rb\"))\n",
    "    model.set_weights(wlayer)\n",
    "        \n",
    "    #warm-up\n",
    "    y_per = model.predict(np.zeros((1,base_size,base_size,3) ,np.float32))\n",
    "    \n",
    "    image_name = \"./test_data/%d/i_%d_%02d.png\"%(base_size,base_size, image_num)    \n",
    "    a = cv2.imread(image_name)\n",
    "    \n",
    "    x_test = np.reshape(np.float32(a)/255.0-0.5, (1, base_size,base_size, 3))\n",
    "    \n",
    "    start_time = time.time()\n",
    "    y_per = model.predict(x_test)\n",
    "    ellaped = time.time()-start_time\n",
    "    \n",
    "    print(\"class: %s, prob: %2.2f ,elapsed time: %2.2f sec\"%(class_names[int(np.argmax(y_per))], np.max(y_per), ellaped))\n",
    "    "
   ]
  },
  {
   "cell_type": "markdown",
   "metadata": {},
   "source": [
    "# VGG16 Model"
   ]
  },
  {
   "cell_type": "code",
   "execution_count": 5,
   "metadata": {},
   "outputs": [
    {
     "name": "stderr",
     "output_type": "stream",
     "text": [
      "Using TensorFlow backend.\n"
     ]
    },
    {
     "name": "stdout",
     "output_type": "stream",
     "text": [
      "class: bowl, prob: 1.00 ,elapsed time: 0.27 sec\n"
     ]
    }
   ],
   "source": [
    "keras_model_test('vgg16', model_path, image_num = 0, gpu_enabled=gpu_enabled)"
   ]
  },
  {
   "cell_type": "markdown",
   "metadata": {},
   "source": [
    "# Resnet50 model"
   ]
  },
  {
   "cell_type": "code",
   "execution_count": 6,
   "metadata": {},
   "outputs": [
    {
     "name": "stdout",
     "output_type": "stream",
     "text": [
      "class: bowl, prob: 1.00 ,elapsed time: 0.15 sec\n"
     ]
    }
   ],
   "source": [
    "keras_model_test('resnet50', model_path, image_num = 0, gpu_enabled=gpu_enabled)"
   ]
  }
 ],
 "metadata": {
  "kernelspec": {
   "display_name": "Python 3",
   "language": "python",
   "name": "python3"
  },
  "language_info": {
   "codemirror_mode": {
    "name": "ipython",
    "version": 3
   },
   "file_extension": ".py",
   "mimetype": "text/x-python",
   "name": "python",
   "nbconvert_exporter": "python",
   "pygments_lexer": "ipython3",
   "version": "3.6.5"
  }
 },
 "nbformat": 4,
 "nbformat_minor": 2
}
