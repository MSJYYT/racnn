{
 "cells": [
  {
   "cell_type": "markdown",
   "metadata": {},
   "source": [
    "# RACNN CPU Demo"
   ]
  },
  {
   "cell_type": "code",
   "execution_count": 1,
   "metadata": {},
   "outputs": [],
   "source": [
    "import numpy as np\n",
    "import cv2\n",
    "import sys\n",
    "import os\n",
    "import glob\n",
    "import pickle\n",
    "import time\n",
    "import racnn"
   ]
  },
  {
   "cell_type": "code",
   "execution_count": 2,
   "metadata": {},
   "outputs": [],
   "source": [
    "# COCO Class names\n",
    "class_names = ['person', 'bicycle', 'car', 'motorcycle', 'airplane',\n",
    "               'bus', 'train', 'truck', 'boat', 'traffic light',\n",
    "               'fire hydrant', 'stop sign', 'parking meter', 'bench', 'bird',\n",
    "               'cat', 'dog', 'horse', 'sheep', 'cow', 'elephant', 'bear',\n",
    "               'zebra', 'giraffe', 'backpack', 'umbrella', 'handbag', 'tie',\n",
    "               'suitcase', 'frisbee', 'skis', 'snowboard', 'sports ball',\n",
    "               'kite', 'baseball bat', 'baseball glove', 'skateboard',\n",
    "               'surfboard', 'tennis racket', 'bottle', 'wine glass', 'cup',\n",
    "               'fork', 'knife', 'spoon', 'bowl', 'banana', 'apple',\n",
    "               'sandwich', 'orange', 'broccoli', 'carrot', 'hot dog', 'pizza',\n",
    "               'donut', 'cake', 'chair', 'couch', 'potted plant', 'bed',\n",
    "               'dining table', 'toilet', 'tv', 'laptop', 'mouse', 'remote',\n",
    "               'keyboard', 'cell phone', 'microwave', 'oven', 'toaster',\n",
    "               'sink', 'refrigerator', 'book', 'clock', 'vase', 'scissors',\n",
    "               'teddy bear', 'hair drier', 'toothbrush']"
   ]
  },
  {
   "cell_type": "code",
   "execution_count": 3,
   "metadata": {},
   "outputs": [],
   "source": [
    "# Parameters\n",
    "model_path = '../final_saved_models'"
   ]
  },
  {
   "cell_type": "code",
   "execution_count": 4,
   "metadata": {},
   "outputs": [],
   "source": [
    "def racnn_cpu_test(model_type, model_path, image_num):\n",
    "    \n",
    "    classes=80\n",
    "       \n",
    "    if model_type == 'vgg16':\n",
    "        model_final = 'vgg16_coco_120.p'\n",
    "        base_size = 224\n",
    "        model_path = os.path.join(model_path, model_final)\n",
    "        model = racnn.vgg16_racnn(model_path, False)\n",
    "    elif model_type == 'resnet50':\n",
    "        model_final = 'resnet50_coco_120.p'\n",
    "        base_size = 256\n",
    "        model_path = os.path.join(model_path, model_final)\n",
    "        model = racnn.resnet50_racnn(model_path, False)\n",
    "    elif model_type=='vgg16_racnn':\n",
    "        model_final = 'vgg16_detnet_120.p'\n",
    "        base_size = 224\n",
    "        model_path = os.path.join(model_path, model_final)\n",
    "        model = racnn.vgg16_racnn(model_path, True)\n",
    "    elif model_type=='resnet50_racnn':\n",
    "        model_final = 'resnet_bycnn_120.p'\n",
    "        base_size = 256\n",
    "        model_path = os.path.join(model_path, model_final)\n",
    "        model = racnn.resnet50_racnn(model_path, True)\n",
    "\n",
    "        \n",
    "    y_per = model.predict(np.zeros((base_size,base_size,3),np.float32))\n",
    "\n",
    "    a = cv2.imread(\"./test_data/%d/i_%d_%02d.png\"%(base_size,base_size, image_num))\n",
    "\n",
    "    x_test = np.float32(a)/255.0-0.5\n",
    "\n",
    "    start_time = time.time()\n",
    "    y_per = model.predict(x_test)\n",
    "    ellaped = time.time()-start_time\n",
    "\n",
    "    print(\"class: %s, prob: %2.2f ,elapsed time: %2.2f sec\"%(class_names[int(np.argmax(y_per))], np.max(y_per), ellaped))\n",
    "    "
   ]
  },
  {
   "cell_type": "code",
   "execution_count": 5,
   "metadata": {},
   "outputs": [],
   "source": [
    "# VGG16 Model"
   ]
  },
  {
   "cell_type": "code",
   "execution_count": 6,
   "metadata": {},
   "outputs": [
    {
     "name": "stdout",
     "output_type": "stream",
     "text": [
      "class: bowl, prob: 1.00 ,elapsed time: 0.24 sec\n"
     ]
    }
   ],
   "source": [
    "racnn_cpu_test('vgg16', model_path, 0)"
   ]
  },
  {
   "cell_type": "code",
   "execution_count": 7,
   "metadata": {},
   "outputs": [],
   "source": [
    "# Resnet Model"
   ]
  },
  {
   "cell_type": "code",
   "execution_count": 8,
   "metadata": {},
   "outputs": [
    {
     "name": "stdout",
     "output_type": "stream",
     "text": [
      "class: bowl, prob: 1.00 ,elapsed time: 0.08 sec\n"
     ]
    }
   ],
   "source": [
    "racnn_cpu_test('resnet50', model_path, 0)"
   ]
  },
  {
   "cell_type": "code",
   "execution_count": 9,
   "metadata": {},
   "outputs": [],
   "source": [
    "# VGG16-RACNN Model"
   ]
  },
  {
   "cell_type": "code",
   "execution_count": 10,
   "metadata": {},
   "outputs": [
    {
     "name": "stdout",
     "output_type": "stream",
     "text": [
      "class: bowl, prob: 1.00 ,elapsed time: 0.21 sec\n"
     ]
    }
   ],
   "source": [
    "racnn_cpu_test('vgg16_racnn', model_path, 0)"
   ]
  },
  {
   "cell_type": "code",
   "execution_count": 11,
   "metadata": {},
   "outputs": [],
   "source": [
    "# Resnet50-RACNN Model"
   ]
  },
  {
   "cell_type": "code",
   "execution_count": 12,
   "metadata": {},
   "outputs": [
    {
     "name": "stdout",
     "output_type": "stream",
     "text": [
      "class: bowl, prob: 1.00 ,elapsed time: 0.07 sec\n"
     ]
    }
   ],
   "source": [
    "racnn_cpu_test('resnet50_racnn', model_path, 0)"
   ]
  }
 ],
 "metadata": {
  "kernelspec": {
   "display_name": "Python 3",
   "language": "python",
   "name": "python3"
  },
  "language_info": {
   "codemirror_mode": {
    "name": "ipython",
    "version": 3
   },
   "file_extension": ".py",
   "mimetype": "text/x-python",
   "name": "python",
   "nbconvert_exporter": "python",
   "pygments_lexer": "ipython3",
   "version": "3.6.5"
  }
 },
 "nbformat": 4,
 "nbformat_minor": 2
}
