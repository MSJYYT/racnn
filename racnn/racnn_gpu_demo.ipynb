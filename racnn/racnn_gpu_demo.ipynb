{
 "cells": [
  {
   "cell_type": "markdown",
   "metadata": {},
   "source": [
    "# RACNN GPU Demo"
   ]
  },
  {
   "cell_type": "code",
   "execution_count": 11,
   "metadata": {},
   "outputs": [],
   "source": [
    "import numpy as np\n",
    "import cv2\n",
    "import sys\n",
    "import os\n",
    "import glob\n",
    "import pickle\n",
    "import time\n",
    "import curacnn\n",
    "import racnn_utils"
   ]
  },
  {
   "cell_type": "code",
   "execution_count": 12,
   "metadata": {},
   "outputs": [],
   "source": [
    "# Parameters\n",
    "model_path = './'"
   ]
  },
  {
   "cell_type": "code",
   "execution_count": 13,
   "metadata": {},
   "outputs": [],
   "source": [
    "# COCO Class names\n",
    "class_names = ['person', 'bicycle', 'car', 'motorcycle', 'airplane',\n",
    "               'bus', 'train', 'truck', 'boat', 'traffic light',\n",
    "               'fire hydrant', 'stop sign', 'parking meter', 'bench', 'bird',\n",
    "               'cat', 'dog', 'horse', 'sheep', 'cow', 'elephant', 'bear',\n",
    "               'zebra', 'giraffe', 'backpack', 'umbrella', 'handbag', 'tie',\n",
    "               'suitcase', 'frisbee', 'skis', 'snowboard', 'sports ball',\n",
    "               'kite', 'baseball bat', 'baseball glove', 'skateboard',\n",
    "               'surfboard', 'tennis racket', 'bottle', 'wine glass', 'cup',\n",
    "               'fork', 'knife', 'spoon', 'bowl', 'banana', 'apple',\n",
    "               'sandwich', 'orange', 'broccoli', 'carrot', 'hot dog', 'pizza',\n",
    "               'donut', 'cake', 'chair', 'couch', 'potted plant', 'bed',\n",
    "               'dining table', 'toilet', 'tv', 'laptop', 'mouse', 'remote',\n",
    "               'keyboard', 'cell phone', 'microwave', 'oven', 'toaster',\n",
    "               'sink', 'refrigerator', 'book', 'clock', 'vase', 'scissors',\n",
    "               'teddy bear', 'hair drier', 'toothbrush']"
   ]
  },
  {
   "cell_type": "code",
   "execution_count": 14,
   "metadata": {},
   "outputs": [],
   "source": [
    "def load_weights(model, weights, weight_num):\n",
    "    '''\n",
    "    Loading weights into the model\n",
    "    '''\n",
    "    for k in range(weight_num):\n",
    "            w = weights[k]\n",
    "            if w.ndim==1:\n",
    "                w = np.reshape(w, (1,w.shape[0]))\n",
    "            elif w.ndim==0:\n",
    "                w = np.reshape(np.array([w]), (1,1))\n",
    "\n",
    "            retval = model.load_weight(w, k)\n",
    "            if (not retval):                \n",
    "                break\n",
    "\n",
    "    return retval    "
   ]
  },
  {
   "cell_type": "code",
   "execution_count": 19,
   "metadata": {},
   "outputs": [],
   "source": [
    "def racnn_gpu_test(model_type, model_path, image_num):\n",
    "    \n",
    "    classes = len(class_names)\n",
    "    model_type_index = {'vgg16':0, 'resnet50':1, 'vgg16_racnn':2, 'resnet50_racnn':3}\n",
    "    \n",
    "    if model_type=='vgg16':\n",
    "        model_final = 'vgg16_coco_120.p'\n",
    "        base_size = 224\n",
    "        model_path = os.path.join(model_path,model_final)\n",
    "        racnn_active = False       \n",
    "        model_main_name = 'vgg'\n",
    "    elif model_type=='resnet50':\n",
    "        model_final = 'resnet50_coco_120.p'\n",
    "        base_size = 256\n",
    "        model_path = os.path.join(model_path,model_final)\n",
    "        racnn_active = False\n",
    "        model_main_name = 'resnet'\n",
    "    elif model_type=='vgg16_racnn':\n",
    "        model_final = 'vgg16_racnn_coco_120.p'\n",
    "        base_size = 224\n",
    "        model_path = os.path.join(model_path,model_final)\n",
    "        racnn_active = True\n",
    "        model_main_name = 'vgg'\n",
    "    elif model_type=='resnet50_racnn':\n",
    "        model_final = 'resnet50_racnn_coco_120.p'\n",
    "        base_size = 256\n",
    "        model_path = os.path.join(model_path,model_final)\n",
    "        racnn_active = True\n",
    "        model_main_name = 'resnet'\n",
    "        \n",
    "    model = curacnn.model()\n",
    "    if not model.open(model_type_index[model_type]):\n",
    "        print(\"cannot open curacnn\")\n",
    "        return\n",
    "    \n",
    "    weight_num = model.get_weight_num()\n",
    "    # adding copy with block for fair speed comparison \n",
    "    model.set_speed_test(1)\n",
    "    weights = pickle.load(open(model_path,\"rb\"))\n",
    "    racnn_utils.rearrange_weights(weights, model_main_name, racnn_active, 1)\n",
    "    if not load_weights(model, weights, weight_num):\n",
    "        print(\"error in loading weights\")\n",
    "        return\n",
    "    y_per = np.zeros((classes,), np.float32)\n",
    "        \n",
    "    img = cv2.imread(\"../test_data/%d/i_%d_%02d.png\"%(base_size,base_size, image_num))\n",
    "    if img is None:\n",
    "        print('image not found')\n",
    "        return\n",
    "    \n",
    "    x_test = np.float32(img)/255.0-0.5\n",
    "    \n",
    "    #warm up\n",
    "    retval = model.predict(x_test, y_per)\n",
    "\n",
    "    start_time = time.time()\n",
    "    retval = model.predict(x_test, y_per)\n",
    "    ellaped = time.time()-start_time\n",
    "    if (not retval):\n",
    "        print(\"error in prediction\")\n",
    "        return\n",
    "\n",
    "    print(\"class: %s, prob: %2.2f ,elapsed time: %2.2f sec\"%(class_names[int(np.argmax(y_per))], np.max(y_per), ellaped))\n",
    "    "
   ]
  },
  {
   "cell_type": "markdown",
   "metadata": {},
   "source": [
    "### VGG16 Model"
   ]
  },
  {
   "cell_type": "code",
   "execution_count": 20,
   "metadata": {},
   "outputs": [
    {
     "name": "stdout",
     "output_type": "stream",
     "text": [
      "class: bowl, prob: 1.00 ,elapsed time: 0.04 sec\n"
     ]
    }
   ],
   "source": [
    "racnn_gpu_test('vgg16', model_path, 0)"
   ]
  },
  {
   "cell_type": "markdown",
   "metadata": {},
   "source": [
    "# Resnet Model"
   ]
  },
  {
   "cell_type": "code",
   "execution_count": 21,
   "metadata": {},
   "outputs": [
    {
     "name": "stdout",
     "output_type": "stream",
     "text": [
      "class: bowl, prob: 1.00 ,elapsed time: 0.02 sec\n"
     ]
    }
   ],
   "source": [
    "racnn_gpu_test('resnet50', model_path, 0)"
   ]
  },
  {
   "cell_type": "markdown",
   "metadata": {},
   "source": [
    "# VGG16-RACNN Model"
   ]
  },
  {
   "cell_type": "code",
   "execution_count": 22,
   "metadata": {},
   "outputs": [
    {
     "name": "stdout",
     "output_type": "stream",
     "text": [
      "class: bowl, prob: 1.00 ,elapsed time: 0.04 sec\n"
     ]
    }
   ],
   "source": [
    "racnn_gpu_test('vgg16_racnn', model_path, 0)"
   ]
  },
  {
   "cell_type": "markdown",
   "metadata": {},
   "source": [
    "# Resnet50-RACNN Model"
   ]
  },
  {
   "cell_type": "code",
   "execution_count": 23,
   "metadata": {},
   "outputs": [
    {
     "name": "stdout",
     "output_type": "stream",
     "text": [
      "class: bowl, prob: 1.00 ,elapsed time: 0.02 sec\n"
     ]
    }
   ],
   "source": [
    "racnn_gpu_test('resnet50_racnn', model_path, 0)"
   ]
  },
  {
   "cell_type": "code",
   "execution_count": null,
   "metadata": {},
   "outputs": [],
   "source": []
  }
 ],
 "metadata": {
  "kernelspec": {
   "display_name": "Python 3",
   "language": "python",
   "name": "python3"
  },
  "language_info": {
   "codemirror_mode": {
    "name": "ipython",
    "version": 3
   },
   "file_extension": ".py",
   "mimetype": "text/x-python",
   "name": "python",
   "nbconvert_exporter": "python",
   "pygments_lexer": "ipython3",
   "version": "3.6.5"
  }
 },
 "nbformat": 4,
 "nbformat_minor": 2
}
